{
 "cells": [
  {
   "cell_type": "code",
   "execution_count": 1,
   "metadata": {
    "collapsed": false
   },
   "outputs": [
    {
     "name": "stdout",
     "output_type": "stream",
     "text": [
      "Step #1, avg. loss: 4.91489\n",
      "Step #21, epoch #5, avg. loss: 1.51308\n",
      "Step #41, epoch #10, avg. loss: 0.77286\n",
      "Step #61, epoch #15, avg. loss: 0.55950\n",
      "Step #81, epoch #20, avg. loss: 0.65635\n",
      "Step #101, epoch #25, avg. loss: 0.52191\n",
      "Step #121, epoch #30, avg. loss: 0.40806\n",
      "Step #141, epoch #35, avg. loss: 0.41302\n",
      "Step #161, epoch #40, avg. loss: 0.45175\n",
      "Step #181, epoch #45, avg. loss: 0.46939\n",
      "Accuracy: 0.833333\n",
      "Accuracy: 0.833333\n"
     ]
    }
   ],
   "source": [
    "import shutil\n",
    "\n",
    "import skflow\n",
    "from sklearn import datasets, metrics, cross_validation\n",
    "\n",
    "iris = datasets.load_iris()\n",
    "X_train, X_test, y_train, y_test = cross_validation.train_test_split(iris.data, iris.target,\n",
    "    test_size=0.2, random_state=42)\n",
    "\n",
    "classifier = skflow.TensorFlowLinearClassifier(n_classes=3)\n",
    "classifier.fit(X_train, y_train)\n",
    "score = metrics.accuracy_score(y_test, classifier.predict(X_test))\n",
    "print('Accuracy: {0:f}'.format(score))\n",
    "\n",
    "# Clean checkpoint folder if exists\n",
    "try:\n",
    "    shutil.rmtree('tmp')\n",
    "except OSError:\n",
    "    pass\n",
    "\n",
    "# Save model, parameters and learned variables.\n",
    "classifier.save('tmp')\n",
    "classifier = None\n",
    "\n",
    "## Restore everything\n",
    "new_classifier = skflow.TensorFlowEstimator.restore('tmp')\n",
    "score = metrics.accuracy_score(y_test, new_classifier.predict(X_test))\n",
    "print('Accuracy: {0:f}'.format(score))"
   ]
  },
  {
   "cell_type": "code",
   "execution_count": null,
   "metadata": {
    "collapsed": true
   },
   "outputs": [],
   "source": []
  }
 ],
 "metadata": {
  "kernelspec": {
   "display_name": "Python 2",
   "language": "python",
   "name": "python2"
  },
  "language_info": {
   "codemirror_mode": {
    "name": "ipython",
    "version": 2
   },
   "file_extension": ".py",
   "mimetype": "text/x-python",
   "name": "python",
   "nbconvert_exporter": "python",
   "pygments_lexer": "ipython2",
   "version": "2.7.11"
  }
 },
 "nbformat": 4,
 "nbformat_minor": 0
}
